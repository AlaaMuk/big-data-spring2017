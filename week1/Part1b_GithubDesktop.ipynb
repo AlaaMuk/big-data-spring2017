{
 "cells": [
  {
   "cell_type": "markdown",
   "metadata": {},
   "source": [
    "# Git Crash Course: Setting up Git and Github (Desktop) \n",
    "\n",
    "***\n",
    "\n",
    "While using the command is the standard method for interacting with Git and Github, Github Desktop makes tracking changes and updating your files even easier by providing a desktop application and graphic user interface (no command line coding necessary!).\n",
    "\n",
    "***\n",
    "\n",
    "## 1. Download and Install Github Desktop\n",
    "\n",
    "If you've already gone through the steps from [Part 1](https://github.com/lukemich47/big-data-spring2017/blob/master/week1/Part1_IntroGitAndGithub.ipynb), then you've already set up a Github account. So we'll jump to installing Github Desktop.\n",
    "\n",
    "Navigate to the [Github Desktop homepage](https://desktop.github.com/) and download the client.\n",
    "\n",
    "![alt text](https://github.com/lukemich47/big-data-spring2017/blob/master/week1/GithubDesktopHomepage.jpg)\n"
   ]
  }
 ],
 "metadata": {
  "kernelspec": {
   "display_name": "Python [Root]",
   "language": "python",
   "name": "Python [Root]"
  },
  "language_info": {
   "codemirror_mode": {
    "name": "ipython",
    "version": 2
   },
   "file_extension": ".py",
   "mimetype": "text/x-python",
   "name": "python",
   "nbconvert_exporter": "python",
   "pygments_lexer": "ipython2",
   "version": "2.7.12"
  }
 },
 "nbformat": 4,
 "nbformat_minor": 0
}
