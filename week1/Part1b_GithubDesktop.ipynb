{
 "cells": [
  {
   "cell_type": "markdown",
   "metadata": {},
   "source": [
    "# Git Crash Course: Setting up Git and Github (Desktop) \n",
    "\n",
    "***\n",
    "\n",
    "While using the command is the standard method for interacting with Git and Github, Github Desktop makes tracking changes and updating your files even easier by providing a desktop application and graphic user interface (no command line coding necessary!).\n",
    "\n",
    "***\n",
    "\n",
    "## 1. Download and Install Github Desktop\n",
    "\n",
    "If you've already gone through the steps from [Part 1](https://github.com/lukemich47/big-data-spring2017/blob/master/week1/Part1_IntroGitAndGithub.ipynb), then you've already set up a Github account. So we'll jump to installing Github Desktop.\n",
    "\n",
    "Navigate to the [Github Desktop homepage](https://desktop.github.com/) and download the client.\n",
    "\n",
    "![Github Desktop Homepage](images/homepage.png \"Github Desktop Homepage\")\n",
    "\n",
    "***\n",
    "\n",
    "## 2. Using the Application\n",
    "\n",
    "Once you start the application, you'll be prompted to authenticate to Github using your login information. Next, a series of information windows will open to step you through an entry tutorial.\n",
    "\n",
    "![Github Desktop Start Screen](images/startscreen.png \"Github Desktop Start Screen\")\n",
    "\n",
    "While you should definitely take some time to walk through this built-in tutorial, we'll skip this for now to show you the basics.\n",
    "\n",
    "### Add a Repo\n",
    "\n",
    "Click on the plus sign in the upper left corner of the Github Desktop start screen to add a repo.\n",
    "\n",
    "![Adding a Repo](images/addrepo.png \"Add a Repo\")\n",
    "\n",
    "From here, we can create a new Git repository, clone a repo from a remote location, or add an existing repo. Since we created a repo in Part 1, let's select the \"Add\" tab. Then click \"Browse\" to navigate through our local file structure. Select the folder that contains our root working directory. In my case, I'll be adding the repo that contains this tutorial.\n",
    "\n",
    "### Understanding the Layout\n",
    "\n",
    "#### Viewing Changes\n",
    "\n",
    "Now that we've added our local repo to the desktop app, we can view, commit, and push any changes that we make locally. With the recently-added repo selected in the left panel, select the \"Changes\" tab at the top of the screen, which will let you view your recent changes.\n",
    "\n",
    "![Viewing Changes](images/changes.png \"Viewing changes\")\n",
    "\n",
    "If you don't see any changes here, navigate to your repo location on your local machine and make a change (create a blank text file, for example).\n",
    "\n",
    "#### Committing Changes\n",
    "\n",
    "T\n",
    "#### The Branch Diagram\n",
    "\n",
    "Across the top of the application's layout, we see the branch diagram. This shows us how our project has evolved and let's us quickly see the various branching steps and committed changes that have occured.\n",
    "\n",
    "![Branch Diagram](images/branchdiagram.png \"Branch Diagram\")\n",
    "\n",
    "\n"
   ]
  }
 ],
 "metadata": {
  "kernelspec": {
   "display_name": "Python [Root]",
   "language": "python",
   "name": "Python [Root]"
  },
  "language_info": {
   "codemirror_mode": {
    "name": "ipython",
    "version": 2
   },
   "file_extension": ".py",
   "mimetype": "text/x-python",
   "name": "python",
   "nbconvert_exporter": "python",
   "pygments_lexer": "ipython2",
   "version": "2.7.12"
  }
 },
 "nbformat": 4,
 "nbformat_minor": 0
}
